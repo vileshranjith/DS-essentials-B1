{
 "cells": [
  {
   "cell_type": "markdown",
   "metadata": {},
   "source": [
    "# Question 1"
   ]
  },
  {
   "cell_type": "code",
   "execution_count": 8,
   "metadata": {},
   "outputs": [
    {
     "name": "stdout",
     "output_type": "stream",
     "text": [
      "input: 2\n",
      "input: 13\n",
      "input: 16\n",
      "input: 9\n",
      "input: 6\n",
      "input: 15\n",
      "input: 4\n",
      "input: 8\n",
      "input: 14\n",
      "input: 11\n",
      "[2, 16, 6, 4, 8, 14]\n"
     ]
    }
   ],
   "source": [
    "lst1 = []\n",
    "for i in range(10):\n",
    "    a = (int(input(\"input: \")))\n",
    "    if a % 2 == 0:\n",
    "        lst1.append(a)\n",
    "print(lst1)\n",
    "        "
   ]
  },
  {
   "cell_type": "markdown",
   "metadata": {},
   "source": [
    "# Question 3"
   ]
  },
  {
   "cell_type": "code",
   "execution_count": 11,
   "metadata": {},
   "outputs": [
    {
     "name": "stdout",
     "output_type": "stream",
     "text": [
      "input: 6\n",
      "{1: 1, 2: 4, 3: 9, 4: 16, 5: 25, 6: 36}\n"
     ]
    }
   ],
   "source": [
    "d = {}\n",
    "a = int(input(\"input: \"))\n",
    "for i in range(1,a+1):\n",
    "    d[i] = i*i\n",
    "print(d)"
   ]
  },
  {
   "cell_type": "markdown",
   "metadata": {},
   "source": [
    "# Question 4"
   ]
  },
  {
   "cell_type": "code",
   "execution_count": 23,
   "metadata": {},
   "outputs": [
    {
     "name": "stdout",
     "output_type": "stream",
     "text": [
      "enter the number of directions: 4\n",
      "up 5\n",
      "down 3\n",
      "left 2\n",
      "right 2\n",
      "2\n"
     ]
    }
   ],
   "source": [
    "import math\n",
    "(x,y)=(0,0)\n",
    "dir = int(input(\"enter the number of directions: \"))\n",
    "for i in range(dir):\n",
    "    a,b = input().split()\n",
    "    a,b = str(a).upper(),int(b)\n",
    "    if a == \"DOWN\":\n",
    "        x,y=x,y-b\n",
    "    elif a == \"LEFT\":\n",
    "        x,y=x-b,y\n",
    "    elif a == \"RIGHT\":\n",
    "        x,y=x+b,y\n",
    "    else:\n",
    "        x,y=x,y+b\n",
    "print(round(math.sqrt((x**2)+(y**2))))    "
   ]
  },
  {
   "cell_type": "code",
   "execution_count": null,
   "metadata": {},
   "outputs": [],
   "source": []
  }
 ],
 "metadata": {
  "kernelspec": {
   "display_name": "Python 3",
   "language": "python",
   "name": "python3"
  },
  "language_info": {
   "codemirror_mode": {
    "name": "ipython",
    "version": 3
   },
   "file_extension": ".py",
   "mimetype": "text/x-python",
   "name": "python",
   "nbconvert_exporter": "python",
   "pygments_lexer": "ipython3",
   "version": "3.8.3"
  }
 },
 "nbformat": 4,
 "nbformat_minor": 4
}
