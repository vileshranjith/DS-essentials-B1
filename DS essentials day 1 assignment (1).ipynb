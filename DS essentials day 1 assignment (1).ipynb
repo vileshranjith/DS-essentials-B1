{
 "cells": [
  {
   "cell_type": "markdown",
   "metadata": {},
   "source": [
    "# Question 1"
   ]
  },
  {
   "cell_type": "raw",
   "metadata": {},
   "source": [
    "RAINBOW"
   ]
  },
  {
   "cell_type": "markdown",
   "metadata": {},
   "source": [
    "# Question 2"
   ]
  },
  {
   "cell_type": "code",
   "execution_count": 2,
   "metadata": {},
   "outputs": [
    {
     "name": "stdout",
     "output_type": "stream",
     "text": [
      "LETS UPGRADE\n"
     ]
    }
   ],
   "source": [
    "print(\"LETS UPGRADE\")"
   ]
  },
  {
   "cell_type": "markdown",
   "metadata": {},
   "source": [
    "# Question 3"
   ]
  },
  {
   "cell_type": "code",
   "execution_count": 8,
   "metadata": {},
   "outputs": [
    {
     "name": "stdout",
     "output_type": "stream",
     "text": [
      "cost price: 30\n",
      "selling price: 50\n",
      "Profit\n"
     ]
    }
   ],
   "source": [
    "cp = 30\n",
    "sp = 50\n",
    "print(\"cost price:\",cp)\n",
    "print(\"selling price:\",sp)\n",
    "if cp > sp:\n",
    "    print(\"Loss\")\n",
    "elif cp < sp:\n",
    "    print(\"Profit\")\n",
    "else:\n",
    "    print(\"Neither\")"
   ]
  },
  {
   "cell_type": "code",
   "execution_count": 9,
   "metadata": {},
   "outputs": [
    {
     "name": "stdout",
     "output_type": "stream",
     "text": [
      "cost price: 80\n",
      "selling price: 50\n",
      "Loss\n"
     ]
    }
   ],
   "source": [
    "cp = 80\n",
    "sp = 50\n",
    "print(\"cost price:\",cp)\n",
    "print(\"selling price:\",sp)\n",
    "if cp > sp:\n",
    "    print(\"Loss\")\n",
    "elif cp < sp:\n",
    "    print(\"Profit\")\n",
    "else:\n",
    "    print(\"Neither\")"
   ]
  },
  {
   "cell_type": "code",
   "execution_count": 10,
   "metadata": {},
   "outputs": [
    {
     "name": "stdout",
     "output_type": "stream",
     "text": [
      "cost price: 50\n",
      "selling price: 50\n",
      "Neither\n"
     ]
    }
   ],
   "source": [
    "cp = 50\n",
    "sp = 50\n",
    "print(\"cost price:\",cp)\n",
    "print(\"selling price:\",sp)\n",
    "if cp > sp:\n",
    "    print(\"Loss\")\n",
    "elif cp < sp:\n",
    "    print(\"Profit\")\n",
    "else:\n",
    "    print(\"Neither\")"
   ]
  },
  {
   "cell_type": "markdown",
   "metadata": {},
   "source": [
    "# Question 4"
   ]
  },
  {
   "cell_type": "code",
   "execution_count": 11,
   "metadata": {},
   "outputs": [
    {
     "name": "stdout",
     "output_type": "stream",
     "text": [
      "enter the amount in euros: 90\n",
      "Rupees: 7200.0\n"
     ]
    }
   ],
   "source": [
    "euros = float(input(\"enter the amount in euros: \"))\n",
    "rs = euros * 80\n",
    "print(\"Rupees:\",rs)"
   ]
  },
  {
   "cell_type": "code",
   "execution_count": 12,
   "metadata": {},
   "outputs": [
    {
     "name": "stdout",
     "output_type": "stream",
     "text": [
      "enter the amount in euros: 15\n",
      "Rupees: 1200.0\n"
     ]
    }
   ],
   "source": [
    "euros = float(input(\"enter the amount in euros: \"))\n",
    "rs = euros * 80\n",
    "print(\"Rupees:\",rs)"
   ]
  },
  {
   "cell_type": "code",
   "execution_count": 13,
   "metadata": {},
   "outputs": [
    {
     "name": "stdout",
     "output_type": "stream",
     "text": [
      "enter the amount in euros: 7\n",
      "Rupees: 560.0\n"
     ]
    }
   ],
   "source": [
    "euros = float(input(\"enter the amount in euros: \"))\n",
    "rs = euros * 80\n",
    "print(\"Rupees:\",rs)"
   ]
  },
  {
   "cell_type": "code",
   "execution_count": null,
   "metadata": {},
   "outputs": [],
   "source": []
  }
 ],
 "metadata": {
  "kernelspec": {
   "display_name": "Python 3",
   "language": "python",
   "name": "python3"
  },
  "language_info": {
   "codemirror_mode": {
    "name": "ipython",
    "version": 3
   },
   "file_extension": ".py",
   "mimetype": "text/x-python",
   "name": "python",
   "nbconvert_exporter": "python",
   "pygments_lexer": "ipython3",
   "version": "3.8.3"
  }
 },
 "nbformat": 4,
 "nbformat_minor": 4
}
